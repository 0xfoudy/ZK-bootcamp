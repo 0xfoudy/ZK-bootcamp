{
 "cells": [
  {
   "cell_type": "markdown",
   "metadata": {},
   "source": [
    "https://www.rareskills.io/post/bilinear-pairing\n",
    "\n",
    "The chances that\n",
    "\n",
    "`e(aG, bG′) = e(abG, G′) = e(G,abG′)`\n",
    "\n",
    "is true for three random groups is very slim.\n",
    "\n",
    "\n",
    "Using groups of different “dimensions,” plus some other features which are far more complex than we want to get into here, make this property easier to construct.\n",
    "\n",
    "Remember, this is a cyclic group. You don’t care what bizzare moon-math object you are “multiplying” by. You just care that it follows the properties of cyclic groups. Then you can leave the under-the-hood details to a library, which we will discuss next.\n",
    "\n",
    "So don’t let the name “field extension” scare you. All that matters to us is that we will be dealing with elliptic curve points that have more dimensions than our typical (x, y) point on the curve.\n",
    "\n",
    "\n",
    "Specifically, in the next section we will be dealing with three groups: G1, G2, and G12. These correspond to the dimensions of these groups."
   ]
  },
  {
   "cell_type": "code",
   "execution_count": 2,
   "metadata": {},
   "outputs": [
    {
     "name": "stdout",
     "output_type": "stream",
     "text": [
      "(1, 2)\n",
      "((10857046999023057135944570762232829481370756359578518086990519993285655852781, 11559732032986387107991004021392285783925812861821192530917403151452391805634), (8495653923123431417604973247489272438418190587263600148770280649306958101930, 4082367875863433681332203403145435568316851327593401208105741076214120093531))\n"
     ]
    }
   ],
   "source": [
    "from py_ecc.bn128 import G1, G2, pairing, add, multiply, eq\n",
    "\n",
    "print(G1)\n",
    "\n",
    "print(G2)\n"
   ]
  },
  {
   "cell_type": "code",
   "execution_count": 8,
   "metadata": {},
   "outputs": [
    {
     "name": "stdout",
     "output_type": "stream",
     "text": [
      "True\n",
      "True\n"
     ]
    }
   ],
   "source": [
    "print(eq(add(G1, G1), multiply(G1, 2)))\n",
    "# True\n",
    "print(eq(add(G2, G2), multiply(G2, 2)))\n",
    "# True"
   ]
  },
  {
   "cell_type": "code",
   "execution_count": 1,
   "metadata": {},
   "outputs": [
    {
     "ename": "NameError",
     "evalue": "name 'multiply' is not defined",
     "output_type": "error",
     "traceback": [
      "\u001b[0;31m---------------------------------------------------------------------------\u001b[0m",
      "\u001b[0;31mNameError\u001b[0m                                 Traceback (most recent call last)",
      "Cell \u001b[0;32mIn[1], line 4\u001b[0m\n\u001b[1;32m      1\u001b[0m \u001b[38;5;28;01mimport\u001b[39;00m \u001b[38;5;21;01msys\u001b[39;00m \n\u001b[1;32m      2\u001b[0m sys\u001b[38;5;241m.\u001b[39msetrecursionlimit(\u001b[38;5;241m20000\u001b[39m)\n\u001b[0;32m----> 4\u001b[0m A \u001b[38;5;241m=\u001b[39m \u001b[43mmultiply\u001b[49m(G2, \u001b[38;5;241m5\u001b[39m) \u001b[38;5;66;03m# 5G2\u001b[39;00m\n\u001b[1;32m      5\u001b[0m B \u001b[38;5;241m=\u001b[39m multiply(G1, \u001b[38;5;241m6\u001b[39m) \u001b[38;5;66;03m# 6G1\u001b[39;00m\n\u001b[1;32m      6\u001b[0m pairing(A, B)\n",
      "\u001b[0;31mNameError\u001b[0m: name 'multiply' is not defined"
     ]
    }
   ],
   "source": [
    "import sys \n",
    "sys.setrecursionlimit(20000)\n",
    "\n",
    "A = multiply(G2, 5) # 5G2\n",
    "B = multiply(G1, 6) # 6G1\n",
    "pairing(A, B)\n",
    "\n",
    "C = multiply(G2, 5 * 6) # 30G2\n",
    "\n",
    "pairing(A, B) == pairing(C, G1) # (AG2, BG1) == (ABG2, G1)"
   ]
  },
  {
   "cell_type": "markdown",
   "metadata": {},
   "source": [
    "So if we want to be mathematical about this, our bn128 pairing does the following\n",
    "\n",
    "`e: G1 × G2 → G12`"
   ]
  },
  {
   "cell_type": "code",
   "execution_count": 6,
   "metadata": {},
   "outputs": [
    {
     "ename": "ValueError",
     "evalue": "too many values to unpack (expected 2)",
     "output_type": "error",
     "traceback": [
      "\u001b[0;31m---------------------------------------------------------------------------\u001b[0m",
      "\u001b[0;31mValueError\u001b[0m                                Traceback (most recent call last)",
      "Cell \u001b[0;32mIn[6], line 3\u001b[0m\n\u001b[1;32m      1\u001b[0m sys\u001b[38;5;241m.\u001b[39msetrecursionlimit(\u001b[38;5;241m20000\u001b[39m)\n\u001b[0;32m----> 3\u001b[0m \u001b[43mpairing\u001b[49m\u001b[43m(\u001b[49m\u001b[43mG2\u001b[49m\u001b[43m \u001b[49m\u001b[38;5;241;43m*\u001b[39;49m\u001b[43m \u001b[49m\u001b[38;5;241;43m5\u001b[39;49m\u001b[43m,\u001b[49m\u001b[43m \u001b[49m\u001b[43mG1\u001b[49m\u001b[43m \u001b[49m\u001b[38;5;241;43m*\u001b[39;49m\u001b[43m \u001b[49m\u001b[38;5;241;43m6\u001b[39;49m\u001b[43m)\u001b[49m \u001b[38;5;241m==\u001b[39m pairing(G2 \u001b[38;5;241m*\u001b[39m \u001b[38;5;241m30\u001b[39m, G1) \u001b[38;5;66;03m# (5G2, 6G1) == (30G2, G1)\u001b[39;00m\n",
      "File \u001b[0;32m~/Library/Python/3.9/lib/python/site-packages/py_ecc/bn128/bn128_pairing.py:108\u001b[0m, in \u001b[0;36mpairing\u001b[0;34m(Q, P)\u001b[0m\n\u001b[1;32m    107\u001b[0m \u001b[38;5;28;01mdef\u001b[39;00m \u001b[38;5;21mpairing\u001b[39m(Q: Point2D[FQ2], P: Point2D[FQ]) \u001b[38;5;241m-\u001b[39m\u001b[38;5;241m>\u001b[39m FQ12:\n\u001b[0;32m--> 108\u001b[0m     \u001b[38;5;28;01massert\u001b[39;00m \u001b[43mis_on_curve\u001b[49m\u001b[43m(\u001b[49m\u001b[43mQ\u001b[49m\u001b[43m,\u001b[49m\u001b[43m \u001b[49m\u001b[43mb2\u001b[49m\u001b[43m)\u001b[49m\n\u001b[1;32m    109\u001b[0m     \u001b[38;5;28;01massert\u001b[39;00m is_on_curve(P, b)\n\u001b[1;32m    110\u001b[0m     \u001b[38;5;28;01mreturn\u001b[39;00m miller_loop(twist(Q), cast_point_to_fq12(P))\n",
      "File \u001b[0;32m~/Library/Python/3.9/lib/python/site-packages/py_ecc/bn128/bn128_curve.py:69\u001b[0m, in \u001b[0;36mis_on_curve\u001b[0;34m(pt, b)\u001b[0m\n\u001b[1;32m     67\u001b[0m \u001b[38;5;28;01mif\u001b[39;00m is_inf(pt):\n\u001b[1;32m     68\u001b[0m     \u001b[38;5;28;01mreturn\u001b[39;00m \u001b[38;5;28;01mTrue\u001b[39;00m\n\u001b[0;32m---> 69\u001b[0m x, y \u001b[38;5;241m=\u001b[39m pt\n\u001b[1;32m     70\u001b[0m \u001b[38;5;28;01mreturn\u001b[39;00m y\u001b[38;5;241m*\u001b[39m\u001b[38;5;241m*\u001b[39m\u001b[38;5;241m2\u001b[39m \u001b[38;5;241m-\u001b[39m x\u001b[38;5;241m*\u001b[39m\u001b[38;5;241m*\u001b[39m\u001b[38;5;241m3\u001b[39m \u001b[38;5;241m==\u001b[39m b\n",
      "\u001b[0;31mValueError\u001b[0m: too many values to unpack (expected 2)"
     ]
    }
   ],
   "source": [
    "pairing(G2 * 5, G1 * 6) == pairing(G2 * 30, G1) # (5G2, 6G1) == (30G2, G1)\n"
   ]
  },
  {
   "cell_type": "markdown",
   "metadata": {},
   "source": [
    "## Bilinear Pairings in Ethereum\n",
    "### EIP 197 Specs\n",
    "\n",
    "The ethereum Precompile defined in EIP-197 works on points in G1 and G2 and **implicitly** works on points in G12\n",
    "\n",
    "The specification takes in a list of G1 and G2 points laid out as:\n",
    "\n",
    "`A₁B₁A₂B₂...AₙBₙ : Aᵢ ∈ G1, Bᵢ ∈ G2`\n",
    "\n",
    "These were created as\n",
    "\n",
    "`A₁ = a₁G1 ; B₁ = b₁G2 ; A₂ = a₂G1 ; B₂ = b₂G2 ; ... ; Aₙ = aₙG1 ; Bₙ = bₙG2`\n",
    "\n",
    "The precompile returns 1 if the following is true\n",
    "\n",
    "`a₁b₁ + a₂b₂ + ... + aₙbₙ = 0`\n",
    "\n",
    "and 0 otherwise"
   ]
  },
  {
   "cell_type": "markdown",
   "metadata": {},
   "source": [
    "### Justification for EIP 197 design decision\n",
    "Adding a wrapped around `e: G1 × G2 → G12` is that problem because G12 points are huge \n",
    "-> Take up a lot of space in memory -> larger gas cost\n",
    "\n",
    "And most zk verification aglorithms don't check the value of the output of a pairing but only that it is equal to other pairings.\n",
    "\n",
    "Final step of Groth16 (ZK by tornado cash) looks like\n",
    "\n",
    "`e(A₁, B₂) = e(α₁, β₂) + e(L₁, γ₂) + e(C₁, δ₂)`\n",
    "\n",
    "where each variable is an elliptic curve point of either G1 or G2 based on its subscript notation\n",
    "\n",
    "We can write it as the following to match the precompile specification\n",
    "\n",
    "`0 = e(−A₁, B₂) + e(α₁, β₂) + e(L₁, γ₂) + e(C₁, δ₂)`"
   ]
  },
  {
   "cell_type": "markdown",
   "metadata": {},
   "source": [
    "### Sum of preimages\n",
    "If\n",
    "`ab + cd = 0` \n",
    "\n",
    "then it must be true in G12 space\n",
    "`A₁B₂ + C₁D₂ = 0₁₂  A₁,C₁ ∈ G1, B₂,D₂ ∈ G2`\n",
    "\n",
    "The precompile isn't computing the discrete logarithm (`a₁b₂ + c₁d₂ = 0`), it's simply checking if the sum of pairings is zero"
   ]
  },
  {
   "cell_type": "markdown",
   "metadata": {},
   "source": [
    "### -ab + cd = 0 Example\n",
    "`a = 4 ; b = 3 ; c = 6 ; d = 2`\n",
    "\n",
    "putting it into the formula we can get\n",
    "\n",
    "`A₁B₂ + C₁D₂  = e(−aG1, bG2) + e(cG1, dG2) = 0`"
   ]
  },
  {
   "cell_type": "code",
   "execution_count": 2,
   "metadata": {},
   "outputs": [
    {
     "name": "stdout",
     "output_type": "stream",
     "text": [
      "(3010198690406615200373504922352659861758983907867017329644089018310584441462, 17861058253836152797273815394432013122766662423622084931972383889279925210507)\n",
      "((2725019753478801796453339367788033689375851816420509565303521482350756874229, 7273165102799931111715871471550377909735733521218303035754523677688038059653), (2512659008974376214222774206987427162027254181373325676825515531566330959255, 957874124722006818841961785324909313781880061366718538693995380805373202866))\n",
      "(4503322228978077916651710446042370109107355802721800704639343137502100212473, 6132642251294427119375180147349983541569387941788025780665104001559216576968)\n",
      "((18029695676650738226693292988307914797657423701064905010927197838374790804409, 14583779054894525174450323658765874724019480979794335525732096752006891875705), (2140229616977736810657479771656733941598412651537078903776637920509952744750, 11474861747383700316476719153975578001603231366361248090558603872215261634898))\n"
     ]
    }
   ],
   "source": [
    "from py_ecc.bn128 import neg, multiply, G1, G2\n",
    "a = 4\n",
    "b = 3\n",
    "c = 6\n",
    "d = 2\n",
    "# negate G1 * a to make the equation sum up to 0\n",
    "\n",
    "print(neg(multiply(G1, a)))\n",
    "#(3010198690406615200373504922352659861758983907867017329644089018310584441462, 17861058253836152797273815394432013122766662423622084931972383889279925210507)\n",
    "print(multiply(G2, b))\n",
    "\n",
    "# (\n",
    "#(2725019753478801796453339367788033689375851816420509565303521482350756874229, 7273165102799931111715871471550377909735733521218303035754523677688038059653)\n",
    "#, \n",
    "#(2512659008974376214222774206987427162027254181373325676825515531566330959255, 957874124722006818841961785324909313781880061366718538693995380805373202866)\n",
    "#)\n",
    "\n",
    "print(multiply(G1, c))\n",
    "# (4503322228978077916651710446042370109107355802721800704639343137502100212473, 6132642251294427119375180147349983541569387941788025780665104001559216576968)\n",
    "print(multiply(G2, d))\n",
    "# (\n",
    "#(18029695676650738226693292988307914797657423701064905010927197838374790804409, 14583779054894525174450323658765874724019480979794335525732096752006891875705),\n",
    "#(2140229616977736810657479771656733941598412651537078903776637920509952744750, 11474861747383700316476719153975578001603231366361248090558603872215261634898)\n",
    "#)"
   ]
  },
  {
   "cell_type": "markdown",
   "metadata": {},
   "source": [
    "Now we have the values encrypted into points on G1 and G2 groups, someone else or a program can confirm that we computed `A1B2+C1D2=0` correctly without knowing the individual values of a, b, c, or d. Here’s a solidity contract that uses the ecPairing precompile to confirm that we computed the equations with valid values."
   ]
  }
 ],
 "metadata": {
  "kernelspec": {
   "display_name": "Python 3",
   "language": "python",
   "name": "python3"
  },
  "language_info": {
   "codemirror_mode": {
    "name": "ipython",
    "version": 3
   },
   "file_extension": ".py",
   "mimetype": "text/x-python",
   "name": "python",
   "nbconvert_exporter": "python",
   "pygments_lexer": "ipython3",
   "version": "3.12.1"
  }
 },
 "nbformat": 4,
 "nbformat_minor": 2
}
