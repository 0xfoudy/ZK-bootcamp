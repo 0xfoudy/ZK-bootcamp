{
 "cells": [
  {
   "cell_type": "markdown",
   "metadata": {},
   "source": [
    "# Homework 4\n",
    "\n",
    "Implement a solidity contract that verifies the computation for the EC points.\n",
    "\n",
    "$$\n",
    "0 = -A_1B_2 +\\alpha_1\\beta_2 + X_1\\gamma_2 + C_1\\delta_2\\\\X_1=x_1G1 + x_2G1 + x_3G1\n",
    "$$\n",
    "\n",
    "Pick any (nontrivial) values to generate the points that results a balanced equation.\n",
    "\n",
    "Note that x1, x2, x3 are uint256 and the rest are G1 or G2 points.\n",
    "\n",
    "You will need to take in the following as arguments to a public function:\n",
    "\n",
    "$$\n",
    "A_1, B_2, C_1, x_1,x_2,x_3\n",
    "$$\n",
    "\n",
    "Use the ethereum precompiles for addition and multiplication to compute $X$, then the precompile for pairing to compute the entire equation in one go.\n",
    "\n",
    "All other points should be hardcoded into the contract. For example, suppose you want\n",
    "\n",
    "$$\n",
    "\\alpha_1 = 5G_1\\\\\n",
    "\\beta_2 = 6G_2\\\\\n",
    "...\n",
    "$$\n",
    "\n",
    "You need to compute those values and write them as constants inside the contract.\n",
    "\n",
    "**Tip: make the pairing work with only two sets of points (2 G1 and 2 G2) first for simple examples. The order for G2 in the precompile is not what you are expecting it to be!**"
   ]
  },
  {
   "cell_type": "code",
   "execution_count": 8,
   "metadata": {},
   "outputs": [
    {
     "name": "stdout",
     "output_type": "stream",
     "text": [
      "alfa1:  (10744596414106452074759370245733544594153395043370666422502510773307029471145, 848677436511517736191562425154572367705380862894644942948681172815252343932)\n",
      "beta2:  ((10191129150170504690859455063377241352678147020731325090942140630855943625622, 12345624066896925082600651626583520268054356403303305150512393106955803260718), (16727484375212017249697795760885267597317766655549468217180521378213906474374, 13790151551682513054696583104432356791070435696840691503641536676885931241944))\n",
      "gamma2:  ((2725019753478801796453339367788033689375851816420509565303521482350756874229, 7273165102799931111715871471550377909735733521218303035754523677688038059653), (2512659008974376214222774206987427162027254181373325676825515531566330959255, 957874124722006818841961785324909313781880061366718538693995380805373202866))\n",
      "delta2:  ((18936818173480011669507163011118288089468827259971823710084038754632518263340, 18556147586753789634670778212244811446448229326945855846642767021074501673839), (18825831177813899069786213865729385895767511805925522466244528695074736584695, 13775476761357503446238925910346030822904460488609979964814810757616608848118))\n",
      "A1 (4503322228978077916651710446042370109107355802721800704639343137502100212473, 15755600620544848102871225597907291547126923215509797882023933893086009631615)\n",
      "B2 ((14502447760486387799059318541209757040844770937862468921929310682431317530875, 2443430939986969712743682923434644543094899517010817087050769422599268135103), (11721331165636005533649329538372312212753336165656329339895621434122061690013, 4704672529862198727079301732358554332963871698433558481208245291096060730807))\n",
      "C1 (3353031288059533942658390886683067124040920775575537747144343083137631628272, 19321533766552368860946552437480515441416830039777911637913418824951667761761)\n"
     ]
    }
   ],
   "source": [
    "from py_ecc.bn128 import G1, G2, pairing, add, multiply, eq, neg\n",
    "# Question: how to decide alpha beta gamma delta?\n",
    "\n",
    "# Hardcoded alfa beta gamma delta\n",
    "alfa1 = multiply(G1, 5)\n",
    "beta2 = multiply(G2, 6)\n",
    "gamma2 = multiply(G2, 3)\n",
    "delta2 = multiply(G2, 4)\n",
    "\n",
    "\n",
    "# Determine A1, B2, C1, x1, x2, x3 that balance the equation\n",
    "# alfa1 * beta2 + X1 * gamma2 + C1 * delta2 = A1B2\n",
    "A1 = neg(multiply(G1, 6))\n",
    "B2 = multiply(G2, 10)\n",
    "C1 = multiply(G1, 3)\n",
    "x1 = 1\n",
    "x2 = 2\n",
    "x3 = 3\n",
    "\n",
    "# X1 * gamma2 = multiply(multiply(G1, 6), multiply(G2, 3) => 18\n",
    "# C1 * delta2 = 12\n",
    "# alfa1 * beta2 = 30\n",
    "# sum = 60, should work\n",
    "\n",
    "print(\"alfa1: \" , alfa1)\n",
    "print(\"beta2: \" , beta2)\n",
    "print(\"gamma2: \" , gamma2)\n",
    "print(\"delta2: \" , delta2)\n",
    "\n",
    "print(\"A1\", A1)\n",
    "print(\"B2\", B2)\n",
    "print(\"C1\", C1)\n"
   ]
  }
 ],
 "metadata": {
  "kernelspec": {
   "display_name": "Python 3",
   "language": "python",
   "name": "python3"
  },
  "language_info": {
   "codemirror_mode": {
    "name": "ipython",
    "version": 3
   },
   "file_extension": ".py",
   "mimetype": "text/x-python",
   "name": "python",
   "nbconvert_exporter": "python",
   "pygments_lexer": "ipython3",
   "version": "3.9.6"
  }
 },
 "nbformat": 4,
 "nbformat_minor": 2
}
