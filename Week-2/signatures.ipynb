{
 "cells": [
  {
   "cell_type": "markdown",
   "metadata": {},
   "source": [
    "# Homework 2\n",
    "\n",
    "Implement ECDSA from scratch. You want to use the secp256k1 curve. See here for a reference library: https://www.rareskills.io/post/generate-ethereum-address-from-private-key-python\n",
    "\n",
    "1) pick a private key\n",
    "\n",
    "2) generate the public key using that private key (not the eth address, the public key)\n",
    "\n",
    "3) pick message m and hash it to produce h (h can be thought of as a 256 bit number)\n",
    "\n",
    "4) sign m using your private key and a randomly chosen nonce k. produce (r, s, h, PubKey)\n",
    "\n",
    "5) verify (r, s, h, PubKey) is valid\n",
    "\n",
    "You may use a library for point multiplication, but everything else you must do from scratch"
   ]
  },
  {
   "cell_type": "code",
   "execution_count": 580,
   "metadata": {},
   "outputs": [],
   "source": [
    "from ecpy.curves import Curve, Point\n",
    "from ecpy.keys import ECPublicKey, ECPrivateKey\n",
    "from sha3 import keccak_256\n",
    "import random\n"
   ]
  },
  {
   "cell_type": "code",
   "execution_count": 581,
   "metadata": {},
   "outputs": [
    {
     "name": "stdout",
     "output_type": "stream",
     "text": [
      "True\n",
      "68593936611348105543962362737492430222342372080500869738209197383858565885651\n",
      "private key:  0x97a6cad3c968c5342e4bc3bbde63115ef54dd19c160d7e65ba75145eed1b2ed3\n",
      "eth_address:  0x89cadbb52d30c8d4c9acc4c3d83397ca9b300ddf\n"
     ]
    }
   ],
   "source": [
    "# private key is a number\n",
    "\n",
    "cv = Curve.get_curve('secp256k1')\n",
    "# curve generator and prime\n",
    "G_x = 55066263022277343669578718895168534326250603453777594175500187360389116729240\n",
    "G_y = 32670510020758816978083085130507043184471273380659243275938904335757337482424\n",
    "p = 115792089237316195423570985008687907853269984665640564039457584007908834671663\n",
    "\n",
    "private_key = random.randint(0, cv.field)\n",
    "\n",
    "pv_key = ECPrivateKey(private_key, cv)\n",
    "pu_key = pv_key.get_public_key()\n",
    "\n",
    "pub_key = cv.mul_point(private_key , cv.generator)\n",
    "#compare generated vs calculated public key\n",
    "print(pub_key.x == pu_key.W.x and pub_key.y == pu_key.W.y)\n",
    "\n",
    "#concatenate x and y of the public key then take the last 20 bytes of the hash\n",
    "concat_x_y = pu_key.W.x.to_bytes(32, byteorder='big') + pu_key.W.y.to_bytes(32, byteorder='big')\n",
    "eth_addr = '0x' + keccak_256(concat_x_y).digest()[-20:].hex()\n",
    "\n",
    "print(private_key)\n",
    "print('private key: ', hex(private_key))\n",
    "\n",
    "print('eth_address: ', eth_addr)"
   ]
  },
  {
   "cell_type": "markdown",
   "metadata": {},
   "source": [
    "# Hashing the message"
   ]
  },
  {
   "cell_type": "code",
   "execution_count": 582,
   "metadata": {},
   "outputs": [
    {
     "name": "stdout",
     "output_type": "stream",
     "text": [
      "b'\\x19Ethereum Signed Message:\\n32\\x1cp\\x9cR\\xcd\\xb0\\xe2\\x81\\xd3\\xf5\\xa0\\xe1\\xad\\xdd\\x90\\xe9\\x87\\x83\"~\\xa8T3\\n\\x8c)\\xa1\\xbb3Kq\\xab'\n",
      "0x1fff06355a39f9d0aa37185a7ce8686ea94eca6297a0bd6c670699578471d496\n"
     ]
    }
   ],
   "source": [
    "m = \"message to hash\"\n",
    "h = keccak_256(m.encode())\n",
    "\n",
    "prefix = b\"\\x19Ethereum Signed Message:\\n32\"\n",
    "message_to_sign_bytes = (prefix + h.digest())\n",
    "\n",
    "print(message_to_sign_bytes)\n",
    "eth_message = keccak_256(message_to_sign_bytes)\n",
    "\n",
    "print('0x' + eth_message.hexdigest())"
   ]
  },
  {
   "cell_type": "markdown",
   "metadata": {},
   "source": [
    "# Signing the message\n",
    "1) Calculate a hash (z) from the message to sign.\n",
    "2) Generate a secure random value for k (our nonce).\n",
    "3) Calculate point (x₁, y₁) on the elliptic curve by multiplying k with the G constant of the elliptic curve.\n",
    "4) Calculate r = x₁ mod n. If r equals zero, go back to step 2.\n",
    "5) Calculate s = k⁻¹(z + rdₐ) mod n. If s equals zero, go back to step 2.\n",
    "6) Determine v = 27 is y1 is even, 28 if odd"
   ]
  },
  {
   "cell_type": "code",
   "execution_count": 590,
   "metadata": {},
   "outputs": [
    {
     "name": "stdout",
     "output_type": "stream",
     "text": [
      "r  0x7ee9e2f57834467f365f7e22221f5663c24175e89bc58d617d786bd80320274f\n",
      "s  0x315685a6fee86c1402882c6036f0ed74be867a6c8def54910a99c5fe9427c98d\n",
      "v  28\n"
     ]
    }
   ],
   "source": [
    "r = 0\n",
    "s = 0\n",
    "v = 28\n",
    "\n",
    "z = int(eth_message.hexdigest(),16)\n",
    "n = cv.order\n",
    "g = cv.generator\n",
    "\n",
    "while ( r == 0 or s == 0):\n",
    "    k = random.randint(0, n)\n",
    "    x1 = (k * g).x\n",
    "    y1 = (k * g).y\n",
    "    if(y1 % 2 == 0):\n",
    "        v = 27\n",
    "    \n",
    "    r = x1 % n\n",
    "    inv_k = pow(k,-1,n)\n",
    "    s = inv_k * (z + r * private_key) % n\n",
    "\n",
    "print(\"r \", \"0x\" + r.to_bytes(32).hex())\n",
    "print(\"s \", \"0x\" + s.to_bytes(32).hex())\n",
    "print(\"v \", v)"
   ]
  },
  {
   "cell_type": "markdown",
   "metadata": {},
   "source": [
    "# The process for recovering the public key looks like this:\n",
    "\n",
    "1) Calculate the hash (e) for the message to recover.\n",
    "2) Calculate point R = (x₁, y₁) on the elliptic curve, where x₁ is r. y1 is recovered from x1 (= x1 if v is 27, then it would be symmetry over x if v is 28)\n",
    "3) Calculate u₁ = -zr⁻¹ mod n and u₂ = sr⁻¹ mod n.\n",
    "4) Calculate point Qₐ = (xₐ, yₐ) = u₁ × G + u₂ × R.\n",
    "Qₐ is the point of the public key for the private key that the address was signed with. We can derive an address from this and check if that matches with the provided address. If it does the signature is valid."
   ]
  },
  {
   "cell_type": "code",
   "execution_count": 591,
   "metadata": {},
   "outputs": [
    {
     "name": "stdout",
     "output_type": "stream",
     "text": [
      "True\n"
     ]
    }
   ],
   "source": [
    "\n",
    "R_x = r\n",
    "\n",
    "R_y = cv.y_recover(R_x, 0)\n",
    "if(v==28):\n",
    "    R_y = cv.y_recover(R_x, 1)\n",
    "\n",
    "R = Point(R_x, R_y, cv)\n",
    "\n",
    "r_inv = pow(r, -1, n)\n",
    "\n",
    "u_1 = (-1 * z * r_inv) % n\n",
    "u_2 = (s * r_inv) % n\n",
    "\n",
    "\n",
    "Qa = cv.add_point(cv.mul_point(u_1 , cv.generator), cv.mul_point(u_2 , R))\n",
    "\n",
    "\n",
    "#concatenate x and y of the public key then take the last 20 bytes of the hash\n",
    "concat_x_y = Qa.x.to_bytes(32, byteorder='big') + Qa.y.to_bytes(32, byteorder='big')\n",
    "recovered_eth_addr = '0x' + keccak_256(concat_x_y).digest()[-20:].hex()\n",
    "print(recovered_eth_addr == eth_addr)"
   ]
  },
  {
   "cell_type": "code",
   "execution_count": 596,
   "metadata": {},
   "outputs": [
    {
     "name": "stdout",
     "output_type": "stream",
     "text": [
      "False\n"
     ]
    }
   ],
   "source": [
    "R_x = r\n",
    "\n",
    "R_y = cv.y_recover(R_x, 0)\n",
    "if(v==28):\n",
    "    R_y = cv.y_recover(R_x, 1)\n",
    "\n",
    "\n",
    "R = Point(R_x, R_y, cv)\n",
    "\n",
    "s_inv = pow(s, -1, n)\n",
    "\n",
    "u_1 = (z * s_inv) % n\n",
    "u_2 = (r * s_inv) % n\n",
    "\n",
    "\n",
    "Qa = cv.add_point(cv.mul_point(u_1 , cv.generator), cv.mul_point(u_2 , R))\n",
    "\n",
    "#concatenate x and y of the public key then take the last 20 bytes of the hash\n",
    "concat_x_y = Qa.x.to_bytes(32, byteorder='big') + Qa.y.to_bytes(32, byteorder='big')\n",
    "recovered_eth_addr = '0x' + keccak_256(concat_x_y).digest()[-20:].hex()\n",
    "print(recovered_eth_addr == eth_addr)"
   ]
  }
 ],
 "metadata": {
  "kernelspec": {
   "display_name": "Python 3",
   "language": "python",
   "name": "python3"
  },
  "language_info": {
   "codemirror_mode": {
    "name": "ipython",
    "version": 3
   },
   "file_extension": ".py",
   "mimetype": "text/x-python",
   "name": "python",
   "nbconvert_exporter": "python",
   "pygments_lexer": "ipython3",
   "version": "3.12.1"
  }
 },
 "nbformat": 4,
 "nbformat_minor": 2
}
